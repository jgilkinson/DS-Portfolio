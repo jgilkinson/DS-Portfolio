{
 "cells": [
  {
   "cell_type": "code",
   "execution_count": null,
   "id": "093b7a92",
   "metadata": {},
   "outputs": [],
   "source": [
    "Josh Gilkinson\n",
    "DS540 Week 8 "
   ]
  },
  {
   "cell_type": "code",
   "execution_count": null,
   "id": "88f940ea",
   "metadata": {},
   "outputs": [],
   "source": [
    "Milestone Assignment 4"
   ]
  },
  {
   "cell_type": "code",
   "execution_count": 1,
   "id": "ac0c50b0",
   "metadata": {},
   "outputs": [
    {
     "name": "stdout",
     "output_type": "stream",
     "text": [
      "{'coord': {'lon': -82.3985, 'lat': 34.8514}, 'weather': [{'id': 804, 'main': 'Clouds', 'description': 'overcast clouds', 'icon': '04d'}], 'base': 'stations', 'main': {'temp': 25, 'feels_like': 25.77, 'temp_min': 23.39, 'temp_max': 26.17, 'pressure': 1018, 'humidity': 85, 'sea_level': 1018, 'grnd_level': 985}, 'visibility': 10000, 'wind': {'speed': 4.12, 'deg': 290}, 'clouds': {'all': 100}, 'dt': 1722208417, 'sys': {'type': 2, 'id': 2004064, 'country': 'US', 'sunrise': 1722162997, 'sunset': 1722213319}, 'timezone': -14400, 'id': 4580543, 'name': 'Greenville', 'cod': 200}\n"
     ]
    }
   ],
   "source": [
    "import requests\n",
    "\n",
    "API_KEY = '2881d8cc77da137fccc2aeb88c2e59d4'\n",
    "BASE_URL_GEO = 'https://api.openweathermap.org/geo/1.0/direct'\n",
    "BASE_URL_WEATHER = 'http://api.openweathermap.org/data/2.5/weather'\n",
    "\n",
    "# Function to get geographical coordinates\n",
    "def get_coords(city_name):\n",
    "    params = {\n",
    "        'q': city_name,\n",
    "        'appid': API_KEY,\n",
    "        'limit': 1  \n",
    "    }\n",
    "    response = requests.get(BASE_URL_GEO, params=params)\n",
    "    data = response.json()\n",
    "    if data:\n",
    "        return data[0]['lat'], data[0]['lon']\n",
    "    else:\n",
    "        return None, None\n",
    "\n",
    "# Function to get weather data\n",
    "def get_weather(lat, lon):\n",
    "    params = {\n",
    "        'lat': lat,\n",
    "        'lon': lon,\n",
    "        'appid': API_KEY,\n",
    "        'units': 'metric'  \n",
    "    }\n",
    "    response = requests.get(BASE_URL_WEATHER, params=params)\n",
    "    return response.json()\n",
    "\n",
    "# Example usage\n",
    "city_name = 'Greenville, South Carolina'\n",
    "lat, lon = get_coords(city_name)\n",
    "if lat is not None and lon is not None:\n",
    "    weather_data = get_weather(lat, lon)\n",
    "    print(weather_data)\n",
    "else:\n",
    "    print(f\"Could not find coordinates for {city_name}\")\n"
   ]
  },
  {
   "cell_type": "code",
   "execution_count": null,
   "id": "b01509d7",
   "metadata": {},
   "outputs": [],
   "source": [
    "#Change one: Make Data Frame"
   ]
  },
  {
   "cell_type": "code",
   "execution_count": 3,
   "id": "4fdbf873",
   "metadata": {},
   "outputs": [
    {
     "name": "stdout",
     "output_type": "stream",
     "text": [
      "         City  Temperature (°C)  Feels Like (°C)        Condition  \\\n",
      "0  Greenville             24.87            25.61  Overcast clouds   \n",
      "\n",
      "   Humidity (%)  Wind Speed (m/s)  \n",
      "0            84              4.12  \n"
     ]
    }
   ],
   "source": [
    "import requests\n",
    "import pandas as pd\n",
    "\n",
    "API_KEY = '2881d8cc77da137fccc2aeb88c2e59d4'\n",
    "BASE_URL_GEO = 'https://api.openweathermap.org/geo/1.0/direct'\n",
    "BASE_URL_WEATHER = 'http://api.openweathermap.org/data/2.5/weather'\n",
    "\n",
    "# Function to get coords\n",
    "def get_coords(city_name):\n",
    "    params = {\n",
    "        'q': city_name,\n",
    "        'appid': API_KEY,\n",
    "        'limit': 1 \n",
    "    }\n",
    "    response = requests.get(BASE_URL_GEO, params=params)\n",
    "    data = response.json()\n",
    "    if data:\n",
    "        return data[0]['lat'], data[0]['lon']\n",
    "    else:\n",
    "        return None, None\n",
    "\n",
    "# Weather Data Function\n",
    "def get_weather(lat, lon):\n",
    "    params = {\n",
    "        'lat': lat,\n",
    "        'lon': lon,\n",
    "        'appid': API_KEY,\n",
    "        'units': 'metric' \n",
    "    }\n",
    "    response = requests.get(BASE_URL_WEATHER, params=params)\n",
    "    return response.json()\n",
    "\n",
    "# Data Frame Function\n",
    "def create_weather_dataframe(weather_data):\n",
    "    if weather_data:\n",
    "        main = weather_data.get('main', {})\n",
    "        weather = weather_data.get('weather', [{}])[0]\n",
    "        wind = weather_data.get('wind', {})\n",
    "\n",
    "        data = {\n",
    "            'City': [weather_data.get('name')],\n",
    "            'Temperature (°C)': [main.get('temp')],\n",
    "            'Feels Like (°C)': [main.get('feels_like')],\n",
    "            'Condition': [weather.get('description', '').capitalize()],\n",
    "            'Humidity (%)': [main.get('humidity')],\n",
    "            'Wind Speed (m/s)': [wind.get('speed')]\n",
    "        }\n",
    "\n",
    "        df = pd.DataFrame(data)\n",
    "        return df\n",
    "    else:\n",
    "        print(\"No weather data available.\")\n",
    "        return pd.DataFrame()\n",
    "\n",
    "city_name = 'Greenville, South Carolina'\n",
    "lat, lon = get_coords(city_name)\n",
    "if lat is not None and lon is not None:\n",
    "    weather_data = get_weather(lat, lon)\n",
    "    weather_df = create_weather_dataframe(weather_data)\n",
    "    print(weather_df)\n",
    "else:\n",
    "    print(f\"Could not find coordinates for {city_name}\")\n"
   ]
  },
  {
   "cell_type": "code",
   "execution_count": null,
   "id": "7459c1d5",
   "metadata": {},
   "outputs": [],
   "source": [
    "# Change Two: Removal of Extra Data"
   ]
  },
  {
   "cell_type": "code",
   "execution_count": 4,
   "id": "6f43f79b",
   "metadata": {},
   "outputs": [
    {
     "name": "stdout",
     "output_type": "stream",
     "text": [
      "         City  Temperature (°C)\n",
      "0  Greenville             24.87\n"
     ]
    }
   ],
   "source": [
    "import requests\n",
    "import pandas as pd\n",
    "\n",
    "API_KEY = '2881d8cc77da137fccc2aeb88c2e59d4'\n",
    "BASE_URL_GEO = 'https://api.openweathermap.org/geo/1.0/direct'\n",
    "BASE_URL_WEATHER = 'http://api.openweathermap.org/data/2.5/weather'\n",
    "\n",
    "# Function to get coords\n",
    "def get_coordinates(city_name):\n",
    "    params = {\n",
    "        'q': city_name,\n",
    "        'appid': API_KEY,\n",
    "        'limit': 1 \n",
    "    }\n",
    "    response = requests.get(BASE_URL_GEO, params=params)\n",
    "    data = response.json()\n",
    "    if data:\n",
    "        return data[0]['lat'], data[0]['lon']\n",
    "    else:\n",
    "        return None, None\n",
    "\n",
    "# Weather Data Function\n",
    "def get_weather(lat, lon):\n",
    "    params = {\n",
    "        'lat': lat,\n",
    "        'lon': lon,\n",
    "        'appid': API_KEY,\n",
    "        'units': 'metric' \n",
    "    }\n",
    "    response = requests.get(BASE_URL_WEATHER, params=params)\n",
    "    return response.json()\n",
    "\n",
    "# Data Frame Function\n",
    "def create_weather_dataframe(weather_data):\n",
    "    if weather_data:\n",
    "        main = weather_data.get('main', {})\n",
    "        weather = weather_data.get('weather', [{}])[0]\n",
    "        wind = weather_data.get('wind', {})\n",
    "\n",
    "        data = {\n",
    "            'City': [weather_data.get('name')],\n",
    "            'Temperature (°C)': [main.get('temp')],\n",
    "        }\n",
    "\n",
    "        df = pd.DataFrame(data)\n",
    "        return df\n",
    "    else:\n",
    "        print(\"No weather data available.\")\n",
    "        return pd.DataFrame()\n",
    "\n",
    "city_name = 'Greenville, South Carolina'\n",
    "lat, lon = get_coords(city_name)\n",
    "if lat is not None and lon is not None:\n",
    "    weather_data = get_weather(lat, lon)\n",
    "    weather_df = create_weather_dataframe(weather_data)\n",
    "    print(weather_df)\n",
    "else:\n",
    "    print(f\"Could not find coordinates for {city_name}\")"
   ]
  },
  {
   "cell_type": "code",
   "execution_count": null,
   "id": "053788fe",
   "metadata": {},
   "outputs": [],
   "source": [
    "#Change 3: Change to Fahrenheit"
   ]
  },
  {
   "cell_type": "code",
   "execution_count": 5,
   "id": "543d2e20",
   "metadata": {},
   "outputs": [
    {
     "name": "stdout",
     "output_type": "stream",
     "text": [
      "         City  Temperature (°F)\n",
      "0  Greenville              76.8\n"
     ]
    }
   ],
   "source": [
    "import requests\n",
    "import pandas as pd\n",
    "\n",
    "API_KEY = '2881d8cc77da137fccc2aeb88c2e59d4'\n",
    "BASE_URL_GEO = 'https://api.openweathermap.org/geo/1.0/direct'\n",
    "BASE_URL_WEATHER = 'http://api.openweathermap.org/data/2.5/weather'\n",
    "\n",
    "# Function to get coords\n",
    "def get_coords(city_name):\n",
    "    params = {\n",
    "        'q': city_name,\n",
    "        'appid': API_KEY,\n",
    "        'limit': 1 \n",
    "    }\n",
    "    response = requests.get(BASE_URL_GEO, params=params)\n",
    "    data = response.json()\n",
    "    if data:\n",
    "        return data[0]['lat'], data[0]['lon']\n",
    "    else:\n",
    "        return None, None\n",
    "\n",
    "# Weather Data Function\n",
    "def get_weather(lat, lon):\n",
    "    params = {\n",
    "        'lat': lat,\n",
    "        'lon': lon,\n",
    "        'appid': API_KEY,\n",
    "        'units': 'imperial' \n",
    "    }\n",
    "    response = requests.get(BASE_URL_WEATHER, params=params)\n",
    "    return response.json()\n",
    "\n",
    "# Data Frame Function\n",
    "def create_weather_dataframe(weather_data):\n",
    "    if weather_data:\n",
    "        main = weather_data.get('main', {})\n",
    "        weather = weather_data.get('weather', [{}])[0]\n",
    "\n",
    "        data = {\n",
    "            'City': [weather_data.get('name')],\n",
    "            'Temperature (°F)': [main.get('temp')],\n",
    "        }\n",
    "\n",
    "        df = pd.DataFrame(data)\n",
    "        return df\n",
    "    else:\n",
    "        print(\"No weather data available.\")\n",
    "        return pd.DataFrame()\n",
    "\n",
    "city_name = 'Greenville, South Carolina'\n",
    "lat, lon = get_coords(city_name)\n",
    "if lat is not None and lon is not None:\n",
    "    weather_data = get_weather(lat, lon)\n",
    "    weather_df = create_weather_dataframe(weather_data)\n",
    "    print(weather_df)\n",
    "else:\n",
    "    print(f\"Could not find coordinates for {city_name}\")"
   ]
  }
 ],
 "metadata": {
  "kernelspec": {
   "display_name": "Python 3 (ipykernel)",
   "language": "python",
   "name": "python3"
  },
  "language_info": {
   "codemirror_mode": {
    "name": "ipython",
    "version": 3
   },
   "file_extension": ".py",
   "mimetype": "text/x-python",
   "name": "python",
   "nbconvert_exporter": "python",
   "pygments_lexer": "ipython3",
   "version": "3.11.5"
  }
 },
 "nbformat": 4,
 "nbformat_minor": 5
}
