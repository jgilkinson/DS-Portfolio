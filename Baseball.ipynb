{
 "cells": [
  {
   "cell_type": "code",
   "execution_count": null,
   "id": "6b7d5a90",
   "metadata": {},
   "outputs": [],
   "source": [
    "# Josh Gilkinson"
   ]
  },
  {
   "cell_type": "code",
   "execution_count": null,
   "id": "11248b6f",
   "metadata": {},
   "outputs": [],
   "source": [
    "# DSC 630 Week 3 Assignment "
   ]
  },
  {
   "cell_type": "code",
   "execution_count": 1,
   "id": "ca624a0c",
   "metadata": {},
   "outputs": [],
   "source": [
    "import pandas as pd\n",
    "\n",
    "Dodgers_path = r'C:\\Users\\jgilk\\OneDrive\\Desktop\\Data Science\\DSC630\\dodgers-2022.csv'\n",
    "df = pd.read_csv(Dodgers_path)\n"
   ]
  },
  {
   "cell_type": "code",
   "execution_count": 26,
   "id": "1f0a6f33",
   "metadata": {},
   "outputs": [
    {
     "name": "stdout",
     "output_type": "stream",
     "text": [
      "Top 10 Games Based on Attendance:\n",
      "   month  day  attend day_of_week   opponent  temp   skies day_night cap  \\\n",
      "0    APR   10   56000     Tuesday    Pirates    67  Clear        Day  NO   \n",
      "59   AUG   21   56000     Tuesday     Giants    75  Clear      Night  NO   \n",
      "39   JUL    1   55359      Sunday       Mets    75  Clear      Night  NO   \n",
      "31   JUN   12   55279     Tuesday     Angels    66  Cloudy     Night  NO   \n",
      "56   AUG    7   55024     Tuesday    Rockies    80  Clear      Night  NO   \n",
      "64   AUG   30   54621    Thursday     Snakes    80  Clear      Night  NO   \n",
      "10   APR   28   54242    Saturday  Nationals    71  Clear      Night  NO   \n",
      "44   JUL   14   54014    Saturday     Padres    75  Clear      Night  NO   \n",
      "42   JUL    4   53570   Wednesday       Reds    70  Clear      Night  NO   \n",
      "35   JUN   17   53504      Sunday  White Sox    74  Clear        Day  NO   \n",
      "\n",
      "   shirt fireworks bobblehead  \n",
      "0     NO        NO         NO  \n",
      "59    NO        NO        YES  \n",
      "39    NO        NO        YES  \n",
      "31    NO        NO        YES  \n",
      "56    NO        NO        YES  \n",
      "64    NO        NO        YES  \n",
      "10    NO        NO        YES  \n",
      "44    NO        NO        YES  \n",
      "42    NO       YES         NO  \n",
      "35    NO        NO         NO  \n"
     ]
    }
   ],
   "source": [
    "# Sort by attendance \n",
    "top_10_games = df.sort_values(by='attend', ascending=False).head(10)\n",
    "\n",
    "print(\"Top 10 Games Based on Attendance:\")\n",
    "print(top_10_games)\n"
   ]
  },
  {
   "cell_type": "markdown",
   "id": "f84bca9e",
   "metadata": {},
   "source": [
    "Is there a correlation between attendance and promotional gifts (Hats, Bobble Heads, Shirts, Fireworks Displays)"
   ]
  },
  {
   "cell_type": "code",
   "execution_count": 19,
   "id": "7ad37ccc",
   "metadata": {},
   "outputs": [
    {
     "name": "stdout",
     "output_type": "stream",
     "text": [
      "Correlation Between Attendance and Promotional Items:\n",
      "bobblehead      0.581895\n",
      "shirt           0.133269\n",
      "fireworks       0.002094\n",
      "cap             -0.055002\n"
     ]
    }
   ],
   "source": [
    "# Creating binary columns for promo items\n",
    "promotion_columns = ['cap', 'shirt', 'fireworks', 'bobblehead']\n",
    "for col in promotion_columns:\n",
    "    df[col] = df[col].apply(lambda x: 1 if x == 'YES' else 0)\n",
    "\n",
    "promotion_correlation = df[['attend'] + promotion_columns].corr()['attend']\n",
    "\n",
    "# Drop the Attend Column\n",
    "promotion_correlation_without_attend = promotion_correlation.drop('attend')\n",
    "promotion_correlation_sorted = promotion_correlation_without_attend.sort_values(ascending=False)\n",
    "\n",
    "print(\"Correlation Between Attendance and Promotional Items:\")\n",
    "for promo, correlation in promotion_correlation_sorted.items():\n",
    "    print(f\"{promo:<15} {correlation:.6f}\")"
   ]
  },
  {
   "cell_type": "markdown",
   "id": "5d10cbdc",
   "metadata": {},
   "source": [
    "These numbers confirm what the initial review hinted at, the bobble head is far and away the best promotional item. The 0.58 correlation is considered the upper end of the Moderate Correlation chart. T-shirts a distant second place with only a very weak correlation, firework displays are another very weak correlation and also they cost the same regardless of attendees. If there is 100 or 10,000 the show costs the same. Finally, baseball caps actually appear to have a negative correlation however this could be due to a limited sample size, but it is something to consider. "
   ]
  },
  {
   "cell_type": "markdown",
   "id": "4a153674",
   "metadata": {},
   "source": [
    "Is there a correlation between attendance and opponent"
   ]
  },
  {
   "cell_type": "code",
   "execution_count": 15,
   "id": "69d56c89",
   "metadata": {},
   "outputs": [
    {
     "name": "stdout",
     "output_type": "stream",
     "text": [
      "Correlation Between Attendance and Opponents:\n",
      "Mets            0.236213\n",
      "Angels          0.207796\n",
      "Nationals       0.195667\n",
      "White Sox       0.127046\n",
      "Cubs            0.075310\n",
      "Padres          0.045111\n",
      "Phillies        0.020380\n",
      "Cardinals       -0.006967\n",
      "Marlins         -0.008912\n",
      "Reds            -0.009301\n",
      "Rockies         -0.060404\n",
      "Pirates         -0.071849\n",
      "Snakes          -0.073943\n",
      "Giants          -0.074763\n",
      "Astros          -0.134533\n",
      "Brewers         -0.157030\n",
      "Braves          -0.209171\n"
     ]
    }
   ],
   "source": [
    "# Convert opponent column into dummy data\n",
    "opponent_dummies = pd.get_dummies(df['opponent'], prefix='opponent')\n",
    "\n",
    "# Add opponent dummy data\n",
    "df_with_dummies = pd.concat([df, opponent_dummies], axis=1)\n",
    "\n",
    "opponent_correlation = df_with_dummies[['attend'] + opponent_dummies.columns.tolist()].corr()['attend']\n",
    "\n",
    "# Drop the Attend column\n",
    "opponent_correlation_without_attend = opponent_correlation.drop('attend')\n",
    "opponent_correlation_without_attend.index = opponent_correlation_without_attend.index.str.replace('opponent_', '')\n",
    "\n",
    "# Sorting the data\n",
    "opponent_correlation_sorted = opponent_correlation_without_attend.sort_values(ascending=False)\n",
    "\n",
    "print(\"Correlation Between Attendance and Opponents:\")\n",
    "for opponent, correlation in opponent_correlation_sorted.items():\n",
    "    print(f\"{opponent:<15} {correlation:.6f}\")"
   ]
  },
  {
   "cell_type": "markdown",
   "id": "b75a15d4",
   "metadata": {},
   "source": [
    "Honestly, this was the most suprising to me. I had expected some stronger correlations between opponent and attendance but that really wasn't there. I had thought location might matter, other California teams, but the Padres and Giants have very weak correlations. Only the Angels have a slightly weak correlation and are based near the Dodgers. Alternatively, I went online to discover records from 2022 to see if ranking could have a factor. Both the Mets and the Braves had a win pct of .623 and the Mets had the best positive correlation and the Braves had the best Negative correlation. It should be noted the Dodgers had a win pct of .685, better than both teams, so it is unclear based on this data why people actively avoided the Braves and went to see the Mets. "
   ]
  },
  {
   "cell_type": "markdown",
   "id": "2ea8d121",
   "metadata": {},
   "source": [
    "Season Order"
   ]
  },
  {
   "cell_type": "code",
   "execution_count": 21,
   "id": "38204734",
   "metadata": {},
   "outputs": [
    {
     "name": "stdout",
     "output_type": "stream",
     "text": [
      "Correlation Between Attendance and Season Order:\n",
      "Game Number and Attendance: 0.057033\n"
     ]
    }
   ],
   "source": [
    "df['game_number'] = range(1, len(df) + 1)\n",
    "\n",
    "correlation_game_number_attendance = df[['attend', 'game_number']].corr().loc['attend', 'game_number']\n",
    "\n",
    "# Print the result\n",
    "print(\"Correlation Between Attendance and Season Order:\")\n",
    "print(f\"Game Number and Attendance: {correlation_game_number_attendance:.6f}\")"
   ]
  },
  {
   "cell_type": "markdown",
   "id": "0903ba6e",
   "metadata": {},
   "source": [
    "This shows there is a very week correlation between season order and attendance. There are multiple possible reasons for this and it should not be considered unless in a playoff situation. "
   ]
  },
  {
   "cell_type": "markdown",
   "id": "3f93319e",
   "metadata": {},
   "source": [
    "Day vs Night"
   ]
  },
  {
   "cell_type": "code",
   "execution_count": 8,
   "id": "003ae8e2",
   "metadata": {},
   "outputs": [
    {
     "name": "stdout",
     "output_type": "stream",
     "text": [
      "Correlation Between Attendance and Time of Day (Excluding First Game):\n",
      "Correlation with Day Games: -0.012373\n",
      "\n",
      "Average Attendance (Excluding First Game):\n",
      "Day Games       40778.50\n",
      "Night Games     41040.28\n"
     ]
    }
   ],
   "source": [
    "df = df.iloc[1:]  # Drop the first game\n",
    "\n",
    "df['day_night_binary'] = df['day_night'].apply(lambda x: 1 if x == 'Day' else 0)\n",
    "\n",
    "correlation_day_night = df[['attend', 'day_night_binary']].corr().loc['attend', 'day_night_binary']\n",
    "\n",
    "avg_attendance_day = df[df['day_night'] == 'Day']['attend'].mean()\n",
    "avg_attendance_night = df[df['day_night'] == 'Night']['attend'].mean()\n",
    "\n",
    "print(\"Correlation Between Attendance and Time of Day (Excluding First Game):\")\n",
    "print(f\"Correlation with Day Games: {correlation_day_night:.6f}\")\n",
    "\n",
    "print(\"\\nAverage Attendance (Excluding First Game):\")\n",
    "print(f\"Day Games       {avg_attendance_day:.2f}\")\n",
    "print(f\"Night Games     {avg_attendance_night:.2f}\")"
   ]
  },
  {
   "cell_type": "markdown",
   "id": "12c1bffb",
   "metadata": {},
   "source": [
    "The average night game attendance is only slightly higher than the average day attendance. I omitted the first game of the season as it was an outlier that would skew the data. The opening game was omitted from all other \"Day\" analysis. "
   ]
  },
  {
   "cell_type": "markdown",
   "id": "0fed5263",
   "metadata": {},
   "source": [
    "Day Games: Weekend vs Weekday"
   ]
  },
  {
   "cell_type": "code",
   "execution_count": 9,
   "id": "d2dece9d",
   "metadata": {},
   "outputs": [
    {
     "name": "stdout",
     "output_type": "stream",
     "text": [
      "Average Attendance for Day Games by Weekday/Weekend (Excluding First Game):\n",
      "Weekday Day Games: 38275.50\n",
      "Weekend Day Games: 41195.67\n"
     ]
    }
   ],
   "source": [
    "df = df.iloc[1:]  # Drop the first game \n",
    "\n",
    "df['weekday_weekend'] = df['day_of_week'].apply(\n",
    "    lambda x: 'Weekend' if x in ['Friday', 'Saturday', 'Sunday'] else 'Weekday'\n",
    ")\n",
    "\n",
    "day_games = df[df['day_night'] == 'Day']\n",
    "\n",
    "avg_attendance_day_weekday = day_games[day_games['weekday_weekend'] == 'Weekday']['attend'].mean()\n",
    "avg_attendance_day_weekend = day_games[day_games['weekday_weekend'] == 'Weekend']['attend'].mean()\n",
    "\n",
    "print(\"Average Attendance for Day Games by Weekday/Weekend (Excluding First Game):\")\n",
    "print(f\"Weekday Day Games: {avg_attendance_day_weekday:.2f}\")\n",
    "print(f\"Weekend Day Games: {avg_attendance_day_weekend:.2f}\")"
   ]
  },
  {
   "cell_type": "markdown",
   "id": "b067bc87",
   "metadata": {},
   "source": [
    "By breaking down the Day game average even further, we can see weekday games fall behind weekend games "
   ]
  },
  {
   "cell_type": "code",
   "execution_count": null,
   "id": "8d5fe2d6",
   "metadata": {},
   "outputs": [],
   "source": [
    "Night Games: Weekend vs Weekday"
   ]
  },
  {
   "cell_type": "code",
   "execution_count": 10,
   "id": "b327755e",
   "metadata": {},
   "outputs": [
    {
     "name": "stdout",
     "output_type": "stream",
     "text": [
      "Average Attendance for Night Games by Weekday/Weekend:\n",
      "Weekday Night Games: 40612.84\n",
      "Weekend Night Games: 42096.85\n"
     ]
    }
   ],
   "source": [
    "df['weekday_weekend'] = df['day_of_week'].apply(\n",
    "    lambda x: 'Weekend' if x in ['Friday', 'Saturday', 'Sunday'] else 'Weekday'\n",
    ")\n",
    "\n",
    "night_games = df[df['day_night'] == 'Night']\n",
    "\n",
    "avg_attendance_night_weekday = night_games[night_games['weekday_weekend'] == 'Weekday']['attend'].mean()\n",
    "avg_attendance_night_weekend = night_games[night_games['weekday_weekend'] == 'Weekend']['attend'].mean()\n",
    "\n",
    "print(\"Average Attendance for Night Games by Weekday/Weekend:\")\n",
    "print(f\"Weekday Night Games: {avg_attendance_night_weekday:.2f}\")\n",
    "print(f\"Weekend Night Games: {avg_attendance_night_weekend:.2f}\")"
   ]
  },
  {
   "cell_type": "markdown",
   "id": "4a3ab768",
   "metadata": {},
   "source": [
    "A further breakdown of Nightgames shows a reasonable increase in attendence for weekday day games but only a minor increase over weekend day games "
   ]
  },
  {
   "cell_type": "markdown",
   "id": "5c187445",
   "metadata": {},
   "source": [
    "Since night games and bobbleheads have been shown to contribute heavely to the attendance, how do they interact with each other. "
   ]
  },
  {
   "cell_type": "code",
   "execution_count": 5,
   "id": "8c6e48d1",
   "metadata": {},
   "outputs": [
    {
     "name": "stdout",
     "output_type": "stream",
     "text": [
      "Average Attendance for Night Games with Bobblehead: 53144.64\n",
      "Average Attendance for Night Games without Bobblehead: 38413.75\n"
     ]
    }
   ],
   "source": [
    "night_games = df[df['day_night'] == 'Night']\n",
    "\n",
    "# Break out the bobblehead games\n",
    "night_games_with_bobblehead = night_games[night_games['bobblehead'] == 'YES']\n",
    "night_games_without_bobblehead = night_games[night_games['bobblehead'] == 'NO']\n",
    "\n",
    "avg_attendance_with_bobblehead = night_games_with_bobblehead['attend'].mean()\n",
    "avg_attendance_without_bobblehead = night_games_without_bobblehead['attend'].mean()\n",
    "\n",
    "print(f\"Average Attendance for Night Games with Bobblehead: {avg_attendance_with_bobblehead:.2f}\")\n",
    "print(f\"Average Attendance for Night Games without Bobblehead: {avg_attendance_without_bobblehead:.2f}\")\n"
   ]
  },
  {
   "cell_type": "markdown",
   "id": "73ccb16f",
   "metadata": {},
   "source": [
    "Based on this, night games alone are not enough to increase ticket sales. Bobbleheads will add a significant amount to the ticket sales. "
   ]
  },
  {
   "cell_type": "markdown",
   "id": "1b2c4873",
   "metadata": {},
   "source": [
    "Final Suggestions:"
   ]
  },
  {
   "cell_type": "markdown",
   "id": "45f5b1c2",
   "metadata": {},
   "source": [
    "Based on all the reviews performed the best way to increase ticket sales would be to hold a night game on the weekend and give out bobblehead figures. However, since the ticket sales are capped at 56,000, it would be a better idea to save the bobbleheads for lower performing situations like day games during the work week to offset the expected drop in sales. "
   ]
  },
  {
   "cell_type": "markdown",
   "id": "6151e9c2",
   "metadata": {},
   "source": [
    "Refrences for baseball standings \n",
    "https://www.mlb.com/standings/2022"
   ]
  }
 ],
 "metadata": {
  "kernelspec": {
   "display_name": "Python 3 (ipykernel)",
   "language": "python",
   "name": "python3"
  },
  "language_info": {
   "codemirror_mode": {
    "name": "ipython",
    "version": 3
   },
   "file_extension": ".py",
   "mimetype": "text/x-python",
   "name": "python",
   "nbconvert_exporter": "python",
   "pygments_lexer": "ipython3",
   "version": "3.11.5"
  }
 },
 "nbformat": 4,
 "nbformat_minor": 5
}
