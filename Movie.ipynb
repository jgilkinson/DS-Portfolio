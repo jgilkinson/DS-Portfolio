{
 "cells": [
  {
   "cell_type": "code",
   "execution_count": null,
   "id": "7d64645e",
   "metadata": {},
   "outputs": [],
   "source": [
    "Josh Gilkinson\n",
    "DSC Week 10 "
   ]
  },
  {
   "cell_type": "code",
   "execution_count": 17,
   "id": "e5d22fcc",
   "metadata": {},
   "outputs": [
    {
     "name": "stdout",
     "output_type": "stream",
     "text": [
      "Recommended movies: ['Relative Fear (1994)', 'Tales from the Crypt Presents: Demon Knight (1995)', 'Thinner (1996)', 'Relic, The (1997)', 'Halloween: The Curse of Michael Myers (Halloween 6: The Curse of Michael Myers) (1995)', 'Believers, The (1987)', 'Birds, The (1963)', 'Body Parts (1991)', 'Candyman (1992)', 'Nightmare on Elm Street, A (1984)']\n"
     ]
    }
   ],
   "source": [
    "import pandas as pd\n",
    "from sklearn.feature_extraction.text import TfidfVectorizer\n",
    "from sklearn.metrics.pairwise import cosine_similarity\n",
    "\n",
    "def load_data():\n",
    "    movies = pd.read_csv(r'C:\\Users\\jgilk\\OneDrive\\Desktop\\Data Science\\DSC630\\movies_small.csv')\n",
    "    ratings = pd.read_csv(r'C:\\Users\\jgilk\\OneDrive\\Desktop\\Data Science\\DSC630\\ratings_small.csv')\n",
    "    return movies, ratings\n",
    "\n",
    "#Merge the two datasets\n",
    "def preprocess_data(movies, ratings):\n",
    "    movie_ratings = ratings.groupby('movieId').mean()['rating']\n",
    "    movies = movies.merge(movie_ratings, on='movieId', how='left')\n",
    "    return movies\n",
    "\n",
    "#I used Cosine Similarity and TF-IDF to convert genre into numerical\n",
    "# Values and then compairing them \n",
    "def compute_similarity(movies):\n",
    "    # Use TF-IDF Vectorizer on movie genres and remove stop words\n",
    "    tfidf = TfidfVectorizer(stop_words=\"english\")\n",
    "    tfidf_matrix = tfidf.fit_transform(movies['genres'].fillna(''))\n",
    "    sim_matrix = cosine_similarity(tfidf_matrix, tfidf_matrix)\n",
    "    return sim_matrix\n",
    "\n",
    "# Now that the movies are scored, the top 10 most similar movies\n",
    "# to my test movie are returned. I had an issue with the test\n",
    "# movie being returned as one of the 10 so I had to exclude that \n",
    "def recommend_movies(movie_title, movies, sim_matrix):\n",
    "    idx = movies[movies['title'] == movie_title].index[0]\n",
    "    sim_scores = list(enumerate(sim_matrix[idx]))\n",
    "    sim_scores = sorted(sim_scores, key=lambda x: x[1], reverse=True)\n",
    "    recommended_indices = [i[0] for i in sim_scores if i[0] != idx][:10]  \n",
    "    return movies.iloc[recommended_indices]['title'].tolist()\n",
    "\n",
    "movies, ratings = load_data()\n",
    "movies = preprocess_data(movies, ratings)\n",
    "sim_matrix = compute_similarity(movies)\n",
    "\n",
    "# Test Movie\n",
    "user_movie = \"In the Mouth of Madness (1995)\"\n",
    "recommendations = recommend_movies(user_movie, movies, sim_matrix)\n",
    "print(\"Recommended movies:\", recommendations)\n"
   ]
  },
  {
   "cell_type": "code",
   "execution_count": null,
   "id": "7a620df3",
   "metadata": {},
   "outputs": [],
   "source": [
    "# Sources: \n",
    "# https://www.kaggle.com/code/ibtesama/getting-started-with-a-movie-recommendation-system\n",
    "# https://medium.com/@abhishekshaw020/python-project-building-a-movie-recommendation-system-175f5f32aa10"
   ]
  }
 ],
 "metadata": {
  "kernelspec": {
   "display_name": "Python 3 (ipykernel)",
   "language": "python",
   "name": "python3"
  },
  "language_info": {
   "codemirror_mode": {
    "name": "ipython",
    "version": 3
   },
   "file_extension": ".py",
   "mimetype": "text/x-python",
   "name": "python",
   "nbconvert_exporter": "python",
   "pygments_lexer": "ipython3",
   "version": "3.11.5"
  }
 },
 "nbformat": 4,
 "nbformat_minor": 5
}
